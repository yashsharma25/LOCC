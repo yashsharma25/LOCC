{
 "cells": [
  {
   "cell_type": "code",
   "execution_count": 1,
   "id": "9c8e31e1",
   "metadata": {},
   "outputs": [],
   "source": [
    "#run this and the next block only\n",
    "\n",
    "import os\n",
    "import sys\n",
    "module_path = os.path.abspath(os.path.join('../locc'))\n",
    "if module_path not in sys.path:\n",
    "    sys.path.append(module_path)\n"
   ]
  },
  {
   "cell_type": "code",
   "execution_count": null,
   "id": "affa6790",
   "metadata": {},
   "outputs": [
    {
     "name": "stdout",
     "output_type": "stream",
     "text": [
      "processing ghz\n",
      "Optimization terminated successfully.\n",
      "         Current function value: -1.000000\n",
      "         Iterations: 122\n",
      "         Function evaluations: 247\n",
      "Entanglement entropy =  1.0\n",
      "Optimization terminated successfully.\n",
      "         Current function value: 0.000000\n",
      "         Iterations: 124\n",
      "         Function evaluations: 246\n",
      "Entanglement entropy =  1.1975355340017127e-20\n",
      "Optimization terminated successfully.\n",
      "         Current function value: -1.000000\n",
      "         Iterations: 122\n",
      "         Function evaluations: 254\n",
      "Entanglement entropy =  1.0\n",
      "Optimization terminated successfully.\n",
      "         Current function value: 0.000000\n",
      "         Iterations: 129\n",
      "         Function evaluations: 247\n",
      "Entanglement entropy =  1.7080912549021341e-19\n",
      "Optimization terminated successfully.\n",
      "         Current function value: -1.000000\n",
      "         Iterations: 106\n",
      "         Function evaluations: 233\n",
      "Entanglement entropy =  1.0\n",
      "Optimization terminated successfully.\n",
      "         Current function value: 0.000000\n",
      "         Iterations: 127\n",
      "         Function evaluations: 245\n",
      "Entanglement entropy =  7.826433801517772e-23\n",
      "processing w\n",
      "Optimization terminated successfully.\n",
      "         Current function value: -0.666667\n",
      "         Iterations: 129\n",
      "         Function evaluations: 251\n",
      "Entanglement entropy =  0.6666666666666674\n",
      "Optimization terminated successfully.\n",
      "         Current function value: 0.550048\n",
      "         Iterations: 108\n",
      "         Function evaluations: 236\n",
      "Entanglement entropy =  0.5500477595827571\n",
      "Optimization terminated successfully.\n",
      "         Current function value: -0.666667\n",
      "         Iterations: 126\n",
      "         Function evaluations: 255\n",
      "Entanglement entropy =  0.6666666666666675\n",
      "Optimization terminated successfully.\n",
      "         Current function value: 0.550048\n",
      "         Iterations: 105\n",
      "         Function evaluations: 231\n",
      "Entanglement entropy =  0.5500477595827571\n",
      "Optimization terminated successfully.\n",
      "         Current function value: -0.666667\n",
      "         Iterations: 111\n",
      "         Function evaluations: 241\n",
      "Entanglement entropy =  0.6666666666666674\n",
      "Optimization terminated successfully.\n",
      "         Current function value: 0.550048\n",
      "         Iterations: 123\n",
      "         Function evaluations: 260\n",
      "Entanglement entropy =  0.5500477595827566\n",
      "processing epr\n",
      "Optimization terminated successfully.\n",
      "         Current function value: -0.000000\n",
      "         Iterations: 69\n",
      "         Function evaluations: 207\n",
      "Entanglement entropy =  8.008566259537296e-16\n",
      "Optimization terminated successfully.\n",
      "         Current function value: 0.000000\n",
      "         Iterations: 85\n",
      "         Function evaluations: 220\n",
      "Entanglement entropy =  2.0556905563863474e-33\n",
      "Optimization terminated successfully.\n",
      "         Current function value: -0.000000\n",
      "         Iterations: 85\n",
      "         Function evaluations: 224\n",
      "Entanglement entropy =  9.61027951144475e-16\n",
      "Optimization terminated successfully.\n",
      "         Current function value: 0.000000\n",
      "         Iterations: 72\n",
      "         Function evaluations: 217\n",
      "Entanglement entropy =  1.2641159038315851e-49\n",
      "Optimization terminated successfully.\n",
      "         Current function value: -1.000000\n",
      "         Iterations: 71\n",
      "         Function evaluations: 203\n",
      "Entanglement entropy =  1.0000000000000007\n",
      "Optimization terminated successfully.\n",
      "         Current function value: 1.000000\n",
      "         Iterations: 63\n",
      "         Function evaluations: 198\n",
      "Entanglement entropy =  0.9999999999999993\n",
      " * Serving Flask app '__main__' (lazy loading)\n",
      " * Environment: production\n",
      "\u001b[31m   WARNING: This is a development server. Do not use it in a production deployment.\u001b[0m\n",
      "\u001b[2m   Use a production WSGI server instead.\u001b[0m\n",
      " * Debug mode: off\n"
     ]
    },
    {
     "name": "stderr",
     "output_type": "stream",
     "text": [
      " * Running on all addresses.\n",
      "   WARNING: This is a development server. Do not use it in a production deployment.\n",
      " * Running on http://192.168.1.165:3000/ (Press CTRL+C to quit)\n",
      "127.0.0.1 - - [06/Dec/2022 19:08:18] \"GET / HTTP/1.1\" 200 -\n",
      "127.0.0.1 - - [06/Dec/2022 19:08:18] \"GET /d3.js HTTP/1.1\" 200 -\n",
      "127.0.0.1 - - [06/Dec/2022 19:08:18] \"GET /state.json HTTP/1.1\" 200 -\n"
     ]
    },
    {
     "name": "stdout",
     "output_type": "stream",
     "text": [
      "ghz\n"
     ]
    }
   ],
   "source": [
    "# this block is the visualization server.py file\n",
    "import math\n",
    "import numpy as np\n",
    "import networkx as nx\n",
    "import matplotlib.pyplot as plt\n",
    "import qiskit\n",
    "import json\n",
    "\n",
    "import os\n",
    "import requests\n",
    "import mimetypes\n",
    "from flask import Flask\n",
    "from flask import Response\n",
    "from flask import request\n",
    "\n",
    "import webbrowser\n",
    "import threading\n",
    "import time\n",
    "\n",
    "from k_party import k_party\n",
    "from entanglement_measures import EntanglementMeasures\n",
    "\n",
    "\n",
    "\n",
    "#custom state\n",
    "def custom_state_with_dims(vec,dims):\n",
    "    s=0\n",
    "    for x in vec: s=s+abs(x)*abs(x)#complex x\n",
    "    a=np.sqrt(s)\n",
    "    v=[x/a for x in vec]\n",
    "    return qiskit.quantum_info.Statevector(v,dims)\n",
    "\n",
    "\n",
    "graph = nx.Graph()\n",
    "graph.add_nodes_from(list(range(3)))\n",
    "graph.add_edges_from([(0,1),(0,2),(1,2)])\n",
    "\n",
    "def graph_state_from_qiskit(graph):\n",
    "    adj_matrix=nx.to_numpy_matrix(graph)\n",
    "    circuit= qiskit.circuit.library.GraphState(adj_matrix)\n",
    "    results=qiskit.quantum_info.Statevector(circuit)\n",
    "    return results\n",
    "    \n",
    "\n",
    "\n",
    "def prepare_state_data(state_vector,name):\n",
    "    dims=state_vector.dims()\n",
    "    k_party_dims=[ (1,[x]) for x in dims ]\n",
    "    N=max(dims)\n",
    "    k_party_obj=k_party(len(dims),N,k_party_dims,state_vector)\n",
    "    state_obj=[{\"re\":x.real,\"im\":x.imag} for x in state_vector]\n",
    "    \n",
    "    e_stats={}\n",
    "    o={\"state\":state_obj,\"name\":name,\"parties\":len(dims),\"dims\":dims,\n",
    "   \"e_stats\":e_stats}\n",
    "    \n",
    "    em = EntanglementMeasures(N, k_party_obj, 2)\n",
    "    for i in range(len(dims)):\n",
    "        for j in range(i):\n",
    "            if i==j: \n",
    "                continue\n",
    "            max_e=em.get_le_upper_bound(k_party_obj, i, j)\n",
    "            min_e=em.get_le_lower_bound(k_party_obj, i, j)\n",
    "            e_stats[str(i)+\",\"+str(j)]={\"max\":max_e,\"min\":min_e}\n",
    "    result=json.dumps(o)\n",
    "    return result\n",
    "\n",
    "def prepare_state_data_evolving(statev1,statev2,name):\n",
    "    party_arr=[]\n",
    "    steps=5\n",
    "    dims=statev1.dims()\n",
    "    k_party_dims=[ (1,[x]) for x in dims ]\n",
    "    N=max(dims)\n",
    "    k_party_obj=k_party(len(dims),N,k_party_dims,statev1)\n",
    "    for i in range(steps):\n",
    "        state_vector=custom_state_with_dims((i*statev1+(steps-i)*statev2/steps),dims)\n",
    "        if state_vector.is_valid() == False: print (\"Error: invalid state\")\n",
    "        #this normalizes the interpolated state\n",
    "        k_party_obj_2=k_party(len(dims),N,k_party_dims,state_vector)\n",
    "        party_arr.append(k_party_obj_2)\n",
    "    state_obj=[{\"re\":x.real,\"im\":x.imag} for x in statev1]\n",
    "    state_obj2=[{\"re\":x.real,\"im\":x.imag} for x in statev2]\n",
    "    dims=statev1.dims()\n",
    "    e_stats={}\n",
    "    o={\"state\":state_obj,\"state2\":state_obj2,\"name\":name,\"parties\":len(dims),\"dims\":dims,\n",
    "   \"e_stats\":e_stats,\"is_changing\":True,\"steps\":steps}\n",
    "    em = EntanglementMeasures(N, k_party_obj_2, 2)\n",
    "    for i in range(len(dims)):\n",
    "        for j in range(i):\n",
    "            if i==j: \n",
    "                continue\n",
    "            max_e=em.get_le_upper_bound_evolving(party_arr, i, j)\n",
    "            min_e=em.get_le_lower_bound_evolving(party_arr, i, j)\n",
    "            #max_e=[(x*1+(steps-x)*(2/3))/steps for x in range(steps)]\n",
    "            #min_e=[(x*0+(steps-x)*(1/3))/steps for x in range(steps)]\n",
    "            e_stats[str(i)+\",\"+str(j)]={\"max\":max_e,\"min\":min_e}\n",
    "    result=json.dumps(o)\n",
    "    return result\n",
    "\n",
    "def init_states():\n",
    "    for name in named_states:\n",
    "        print(\"processing \" +name)\n",
    "        data=named_states[name]\n",
    "        if len(data)==2:\n",
    "            state=custom_state_with_dims(data[1],data[0])\n",
    "            states[name]=prepare_state_data(state,name)\n",
    "        else:\n",
    "            state1=custom_state_with_dims(data[1],data[0])\n",
    "            state2=custom_state_with_dims(data[2],data[0])\n",
    "            states[name]=prepare_state_data_evolving(state1,state2,name)\n",
    "        \n",
    "named_states={\n",
    "    \"ghz\":( (2,2,2), [1,0,0,0,0,0,0,1] ),\n",
    "    \"w\":  ( (2,2,2), [0,1,1,0,1,0,0,0]),\n",
    "    \"epr\": ( (2,2,2), [1,1,0,0,0,0,1,1] ),\n",
    "    #\"ghz4\": ( (2,2,2,2), [1,0,0,0,0,0,0,0,0,0,0,0,0,0,0,1] ),\n",
    "    #\"322\": ( (3,2,2), [1,1,0,0,0,0,1,1,0,0,0,0] ), #error!\n",
    "    #\"ghz3\":  ( (3,3,3),  [1,0,0,0,0,0,0,0,0,0,0,0,0,0,0,0,0,0,0,0,0,0,0,0,0,0,1]),\n",
    "    #\"changing\":( (2,2,2), [1,0,0,0,0,0,0,1], [0,1,1,0,1,0,0,0]),\n",
    "}\n",
    "\n",
    "states={}\n",
    "\n",
    "init_states()\n",
    "state_name=\"ghz\"\n",
    "user_state=states[\"ghz\"]\n",
    "\n",
    "\n",
    "\n",
    "app = Flask(__name__,static_url_path='')\n",
    "\n",
    "@app.route('/')\n",
    "def index(): \n",
    "    return app.send_static_file('index.html')\n",
    "\n",
    "@app.route('/favicon.ico')\n",
    "def favicon(): \n",
    "    return app.send_static_file('favicon.ico')\n",
    "\n",
    "@app.route('/d3.js')\n",
    "def d3js(): \n",
    "    return app.send_static_file('d3.js')\n",
    "\n",
    "@app.route('/<name>')\n",
    "def index_state(name): \n",
    "    global state_name \n",
    "    global user_state\n",
    "    if name in states: \n",
    "        state_name = name\n",
    "        user_state=states[state_name]\n",
    "        print(name, state_name)\n",
    "    else:\n",
    "        strs=name.split(\",\") #eg. each number is like 1+2j\n",
    "        array=[complex(x) for x in strs]\n",
    "        user_state=prepare_state_data(custom_state_from_qiskit(array),name)\n",
    "        state_name=name\n",
    "        states[name]=user_state\n",
    "    #if state_name not in states: state_name=\"ghz\"\n",
    "        print(name, state_name,array)\n",
    "    return app.send_static_file('index.html')\n",
    "\n",
    "@app.route(\"/state.json\")\n",
    "def send_state():\n",
    "    global state_name \n",
    "    global user_state\n",
    "    print(state_name)\n",
    "    return Response(user_state, mimetype='application/json')\n",
    "\n",
    "def open_browser():\n",
    "    time.sleep(1)\n",
    "    webbrowser.open(\"http://localhost:3000/\")\n",
    "\n",
    "thread = threading.Thread(target=open_browser, args=())\n",
    "thread.daemon = True  \n",
    "thread.start() \n",
    "        \n",
    "\n",
    "app.run(host='0.0.0.0', port=3000)\n",
    "\n"
   ]
  },
  {
   "cell_type": "code",
   "execution_count": 2,
   "id": "186eb712",
   "metadata": {},
   "outputs": [
    {
     "ename": "SyntaxError",
     "evalue": "invalid syntax (<ipython-input-2-cae8c35e16d0>, line 1)",
     "output_type": "error",
     "traceback": [
      "\u001b[0;36m  File \u001b[0;32m\"<ipython-input-2-cae8c35e16d0>\"\u001b[0;36m, line \u001b[0;32m1\u001b[0m\n\u001b[0;31m    \"ghz\":prepare_state_data(ghz_state_from_qiskit(),\"ghz\"),\u001b[0m\n\u001b[0m                                                           ^\u001b[0m\n\u001b[0;31mSyntaxError\u001b[0m\u001b[0;31m:\u001b[0m invalid syntax\n"
     ]
    }
   ],
   "source": [
    "\"ghz\":prepare_state_data(ghz_state_from_qiskit(),\"ghz\"),\n",
    "        #\"w\":prepare_state_data(w_state_from_qiskit(),\"w\"),\n",
    "        #\"epr\":prepare_state_data(epr_state_from_qiskit(),\"epr\"),\n",
    "        #\"000\":prepare_state_data(custom_state_from_qiskit([1,0,0,0,0,0,0,0]),\"000\"),\n",
    "        #\"graph\":prepare_state_data(graph_state_from_qiskit(graph),\"graph\"),\n",
    "        #\"test\":test_state_data(),\n",
    "        \"changing\":prepare_state_data_evolving(ghz_state_from_qiskit(),w_state_from_qiskit(),\"changing\"),\n",
    "        \n",
    "        #\"qutrits\":prepare_state_data(qutrit_state_from_qiskit(),\"qutrits\"),\n",
    "        #\"qutrits\":prepare_state_data(qutrit_state2_from_qiskit(),\"qutrits\"),\n",
    "        #the above is with 3 qutrits\n",
    "        #the above gives an error now\n",
    "        #\"qutrits\":qutrit_test_state_data(),\n",
    "        \n",
    "\n",
    "def test_state_data():\n",
    "    circuit = qiskit.QuantumCircuit(5)\n",
    "    circuit.h(0)\n",
    "    circuit.cx(0, 1)\n",
    "    circuit.cx(0, 2)\n",
    "    circuit.cx(0, 3)\n",
    "    circuit.cx(0, 4)\n",
    "    state_vector=qiskit.quantum_info.Statevector(circuit)\n",
    "    \n",
    "    state_obj=[{\"re\":x.real,\"im\":x.imag} for x in state_vector]\n",
    "    dims=state_vector.dims()\n",
    "    e_stats={}\n",
    "    o={\"state\":state_obj,\"name\":\"test\",\"parties\":len(dims),\"dims\":dims,\n",
    "   \"e_stats\":e_stats}\n",
    "    #em = EntanglementMeasures(2, tri_party, 2)\n",
    "    for i in range(len(dims)):\n",
    "        for j in range(i):\n",
    "            if i==j: \n",
    "                continue\n",
    "            #max_e=em.get_le_upper_bound(tri_party, i, j)\n",
    "            #min_e=em.get_le_lower_bound(tri_party, i, j)\n",
    "            max_e=2.0/3\n",
    "            min_e=1.0/3\n",
    "            e_stats[str(i)+\",\"+str(j)]={\"max\":max_e,\"min\":min_e}\n",
    "    result=json.dumps(o)\n",
    "    return result\n",
    "\n",
    "def qutrit_test_state_data():\n",
    "    vec=[1,1,0,0,0,1,0,1,0,1,1,0]\n",
    "    dims=(3,2,2)\n",
    "    v=[x/a for x in vec]\n",
    "    state_vector=custom_state_with_dims(vec,dims)\n",
    "    state_obj=[{\"re\":x.real,\"im\":x.imag} for x in state_vector]\n",
    "    #state_obj=[{\"re\":x,\"im\":0} for x in v]\n",
    "    #dims=state_vector.dims()\n",
    "    e_stats={}\n",
    "    o={\"state\":state_obj,\"name\":\"qutrits\",\"parties\":len(dims),\"dims\":dims,\n",
    "   \"e_stats\":e_stats}\n",
    "    #em = EntanglementMeasures(2, tri_party, 2)\n",
    "    for i in range(len(dims)):\n",
    "        for j in range(i):\n",
    "            if i==j: \n",
    "                continue\n",
    "            #max_e=em.get_le_upper_bound(tri_party, i, j)\n",
    "            #min_e=em.get_le_lower_bound(tri_party, i, j)\n",
    "            max_e=2.0/3\n",
    "            min_e=1.0/3\n",
    "            e_stats[str(i)+\",\"+str(j)]={\"max\":max_e,\"min\":min_e}\n",
    "    result=json.dumps(o)\n",
    "    return result\n",
    "\n"
   ]
  },
  {
   "cell_type": "code",
   "execution_count": 34,
   "id": "7c43b582",
   "metadata": {},
   "outputs": [
    {
     "data": {
      "text/plain": [
       "[1]"
      ]
     },
     "execution_count": 34,
     "metadata": {},
     "output_type": "execute_result"
    }
   ],
   "source": [
    "Error: invalid state\n",
    "Error: invalid state\n",
    "Error: invalid state\n",
    "Error: invalid state\n",
    "Error: invalid state\n",
    "Error: invalid state\n",
    "Error: invalid state\n",
    "Error: invalid state\n",
    "Error: invalid state\n",
    "Error: invalid state\n",
    "Error: invalid state\n",
    "Error: invalid state\n",
    "Error: invalid state\n",
    "Error: invalid state\n",
    "Error: invalid state\n",
    "Error: invalid state\n",
    "Error: invalid state\n",
    "Error: invalid state\n",
    "Error: invalid state"
   ]
  },
  {
   "cell_type": "code",
   "execution_count": 7,
   "id": "424a3926",
   "metadata": {},
   "outputs": [
    {
     "ename": "ImportError",
     "evalue": "attempted relative import with no known parent package",
     "output_type": "error",
     "traceback": [
      "\u001b[0;31m---------------------------------------------------------------------------\u001b[0m",
      "\u001b[0;31mImportError\u001b[0m                               Traceback (most recent call last)",
      "\u001b[0;32m<ipython-input-7-03a0787efb9c>\u001b[0m in \u001b[0;36m<module>\u001b[0;34m\u001b[0m\n\u001b[0;32m----> 1\u001b[0;31m \u001b[0;32mfrom\u001b[0m \u001b[0;34m.\u001b[0m\u001b[0;34m.\u001b[0m\u001b[0mlocc\u001b[0m\u001b[0;34m.\u001b[0m\u001b[0mentanglement_measures\u001b[0m \u001b[0;32mimport\u001b[0m \u001b[0mEntanglementMeasures\u001b[0m\u001b[0;34m\u001b[0m\u001b[0;34m\u001b[0m\u001b[0m\n\u001b[0m\u001b[1;32m      2\u001b[0m \u001b[0;32mfrom\u001b[0m \u001b[0;34m.\u001b[0m\u001b[0;34m.\u001b[0m\u001b[0mlocc\u001b[0m\u001b[0;34m.\u001b[0m\u001b[0mk_party\u001b[0m \u001b[0;32mimport\u001b[0m \u001b[0mk_party\u001b[0m\u001b[0;34m\u001b[0m\u001b[0;34m\u001b[0m\u001b[0m\n\u001b[1;32m      3\u001b[0m \u001b[0;34m\u001b[0m\u001b[0m\n\u001b[1;32m      4\u001b[0m \u001b[0;34m\u001b[0m\u001b[0m\n\u001b[1;32m      5\u001b[0m \u001b[0mtri_party\u001b[0m\u001b[0;34m=\u001b[0m\u001b[0mk_party\u001b[0m\u001b[0;34m(\u001b[0m\u001b[0;36m3\u001b[0m\u001b[0;34m,\u001b[0m\u001b[0;36m2\u001b[0m\u001b[0;34m,\u001b[0m\u001b[0;34m[\u001b[0m\u001b[0;34m(\u001b[0m\u001b[0;36m1\u001b[0m\u001b[0;34m,\u001b[0m\u001b[0;34m[\u001b[0m\u001b[0;36m2\u001b[0m\u001b[0;34m]\u001b[0m\u001b[0;34m)\u001b[0m\u001b[0;34m,\u001b[0m\u001b[0;34m(\u001b[0m\u001b[0;36m1\u001b[0m\u001b[0;34m,\u001b[0m\u001b[0;34m[\u001b[0m\u001b[0;36m2\u001b[0m\u001b[0;34m]\u001b[0m\u001b[0;34m)\u001b[0m\u001b[0;34m,\u001b[0m\u001b[0;34m(\u001b[0m\u001b[0;36m1\u001b[0m\u001b[0;34m,\u001b[0m\u001b[0;34m[\u001b[0m\u001b[0;36m2\u001b[0m\u001b[0;34m]\u001b[0m\u001b[0;34m)\u001b[0m\u001b[0;34m]\u001b[0m\u001b[0;34m,\u001b[0m\u001b[0mstate_vector\u001b[0m\u001b[0;34m)\u001b[0m\u001b[0;34m\u001b[0m\u001b[0;34m\u001b[0m\u001b[0m\n",
      "\u001b[0;31mImportError\u001b[0m: attempted relative import with no known parent package"
     ]
    }
   ],
   "source": [
    "\n",
    "from ..locc.entanglement_measures import EntanglementMeasures\n",
    "from ..locc.k_party import k_party\n",
    "\n",
    "\n",
    "tri_party=k_party(3,2,[(1,[2]),(1,[2]),(1,[2])],state_vector)\n",
    "em = EntanglementMeasures(2, tri_party, 2)\n",
    "em.get_le_lower_bound(tri_party,0, 1)"
   ]
  },
  {
   "cell_type": "code",
   "execution_count": 23,
   "id": "5b15d584",
   "metadata": {},
   "outputs": [
    {
     "data": {
      "text/plain": [
       "<k_party.k_party at 0x7f58a1b0c510>"
      ]
     },
     "execution_count": 23,
     "metadata": {},
     "output_type": "execute_result"
    }
   ],
   "source": [
    "tri_party"
   ]
  },
  {
   "cell_type": "code",
   "execution_count": 12,
   "id": "daa95f48",
   "metadata": {},
   "outputs": [
    {
     "name": "stdout",
     "output_type": "stream",
     "text": [
      "Statevector([ 0.35355339+0.j,  0.35355339+0.j,  0.35355339+0.j,\n",
      "             -0.35355339+0.j,  0.35355339+0.j, -0.35355339+0.j,\n",
      "             -0.35355339+0.j, -0.35355339+0.j],\n",
      "            dims=(2, 2, 2))\n"
     ]
    }
   ],
   "source": [
    "graph_state_from_qiskit(graph)"
   ]
  },
  {
   "cell_type": "code",
   "execution_count": 32,
   "id": "16a6e548",
   "metadata": {},
   "outputs": [
    {
     "name": "stdout",
     "output_type": "stream",
     "text": [
      "Statevector([ 0.53033009+0.j,  0.1767767 +0.j,  0.1767767 +0.j,\n",
      "             -0.1767767 +0.j,  0.1767767 +0.j, -0.1767767 +0.j,\n",
      "             -0.1767767 +0.j,  0.1767767 +0.j],\n",
      "            dims=(2, 2, 2))\n"
     ]
    }
   ],
   "source": [
    "(graph_state_from_qiskit(graph)+ghz_state_from_qiskit())/2"
   ]
  },
  {
   "cell_type": "code",
   "execution_count": 13,
   "id": "a98d191c",
   "metadata": {},
   "outputs": [],
   "source": [
    "s=(graph_state_from_qiskit(graph)+ghz_state_from_qiskit())/2"
   ]
  },
  {
   "cell_type": "code",
   "execution_count": 17,
   "id": "59118543",
   "metadata": {},
   "outputs": [
    {
     "name": "stdout",
     "output_type": "stream",
     "text": [
      "Statevector([ 0.53033009+0.j,  0.1767767 +0.j,  0.1767767 +0.j,\n",
      "             -0.1767767 +0.j,  0.1767767 +0.j, -0.1767767 +0.j,\n",
      "             -0.1767767 +0.j,  0.1767767 +0.j],\n",
      "            dims=(2, 2, 2))\n"
     ]
    }
   ],
   "source": [
    "s"
   ]
  },
  {
   "cell_type": "code",
   "execution_count": 16,
   "id": "b7643a42",
   "metadata": {},
   "outputs": [
    {
     "name": "stdout",
     "output_type": "stream",
     "text": [
      "Statevector([ 0.375+0.j,  0.125+0.j,  0.125+0.j, -0.125+0.j,  0.125+0.j,\n",
      "             -0.125+0.j, -0.125+0.j,  0.125+0.j],\n",
      "            dims=(2, 2, 2))\n"
     ]
    }
   ],
   "source": [
    "custom_state_from_qiskit(s)"
   ]
  },
  {
   "cell_type": "code",
   "execution_count": 30,
   "id": "d6583e42",
   "metadata": {},
   "outputs": [
    {
     "ename": "NameError",
     "evalue": "name 'state_vector' is not defined",
     "output_type": "error",
     "traceback": [
      "\u001b[0;31m---------------------------------------------------------------------------\u001b[0m",
      "\u001b[0;31mNameError\u001b[0m                                 Traceback (most recent call last)",
      "\u001b[0;32m<ipython-input-30-9ae3af366f76>\u001b[0m in \u001b[0;36m<module>\u001b[0;34m\u001b[0m\n\u001b[0;32m----> 1\u001b[0;31m \u001b[0mstate_vector\u001b[0m\u001b[0;34m+\u001b[0m\u001b[0mstate_vector\u001b[0m\u001b[0;34m\u001b[0m\u001b[0;34m\u001b[0m\u001b[0m\n\u001b[0m",
      "\u001b[0;31mNameError\u001b[0m: name 'state_vector' is not defined"
     ]
    }
   ],
   "source": [
    "state_vector+state_vector"
   ]
  },
  {
   "cell_type": "code",
   "execution_count": 83,
   "id": "7d6c2b84",
   "metadata": {},
   "outputs": [
    {
     "data": {
      "text/plain": [
       "array([[[0.        +0.j, 0.57735027+0.j],\n",
       "        [0.57735027+0.j, 0.        +0.j]],\n",
       "\n",
       "       [[0.57735027+0.j, 0.        +0.j],\n",
       "        [0.        +0.j, 0.        +0.j]]])"
      ]
     },
     "execution_count": 83,
     "metadata": {},
     "output_type": "execute_result"
    }
   ],
   "source": [
    "np.reshape(state_vector,(2,2,2))"
   ]
  },
  {
   "cell_type": "code",
   "execution_count": 16,
   "id": "bfae18eb",
   "metadata": {},
   "outputs": [
    {
     "name": "stdout",
     "output_type": "stream",
     "text": [
      "Statevector([0.70710678+0.j, 0.        +0.j, 0.        +0.j,\n",
      "             0.        +0.j, 0.        +0.j, 0.        +0.j,\n",
      "             0.        +0.j, 0.70710678+0.j],\n",
      "            dims=(2, 2, 2))\n",
      "Statevector([0.70710678+0.j, 0.        +0.j, 0.        +0.j,\n",
      "             0.        +0.j, 0.        +0.j, 0.        +0.j,\n",
      "             0.        +0.j, 0.70710678+0.j],\n",
      "            dims=(2, 2, 2))\n",
      "Optimization terminated successfully.\n",
      "         Current function value: -0.000000\n",
      "         Iterations: 80\n",
      "         Function evaluations: 219\n",
      "Entanglement entropy =  6.406853007629843e-16\n"
     ]
    },
    {
     "data": {
      "text/plain": [
       "6.406853007629843e-16"
      ]
     },
     "execution_count": 16,
     "metadata": {},
     "output_type": "execute_result"
    }
   ],
   "source": [
    "def GHZ(dims):\n",
    "    psi = np.zeros((dims, dims, dims))\n",
    "\n",
    "    np.fill_diagonal(psi, np.sqrt(1/dims))\n",
    "    ghz = qiskit.quantum_info.Statevector(psi.flatten())\n",
    "\n",
    "    print(ghz)\n",
    "    return psi\n",
    "ghz=GHZ(2)\n",
    "ghzk=k_party(3,2,[(1,[2]),(1,[2]),(1,[2])],ghz)\n",
    "em = EntanglementMeasures(2, GHZ(2), 2)\n",
    "em.get_le_upper_bound(ghzk,1, 2)"
   ]
  },
  {
   "cell_type": "code",
   "execution_count": 16,
   "id": "23f7811f",
   "metadata": {},
   "outputs": [
    {
     "name": "stdout",
     "output_type": "stream",
     "text": [
      "Warning: Maximum number of function evaluations has been exceeded.\n",
      "Entanglement entropy =  0.0006812896252176074\n"
     ]
    },
    {
     "data": {
      "text/plain": [
       "0.0006812896252176074"
      ]
     },
     "execution_count": 16,
     "metadata": {},
     "output_type": "execute_result"
    }
   ],
   "source": [
    "em.get_le_lower_bound(np.reshape(state_vector,(2,2,2)), 0, 1)"
   ]
  },
  {
   "cell_type": "code",
   "execution_count": 26,
   "id": "ee9c04a8",
   "metadata": {},
   "outputs": [
    {
     "ename": "AttributeError",
     "evalue": "'k_party' object has no attribute 'flatten'",
     "output_type": "error",
     "traceback": [
      "\u001b[0;31m---------------------------------------------------------------------------\u001b[0m",
      "\u001b[0;31mAttributeError\u001b[0m                            Traceback (most recent call last)",
      "\u001b[0;32m<ipython-input-26-30995f36a0cb>\u001b[0m in \u001b[0;36m<module>\u001b[0;34m\u001b[0m\n\u001b[1;32m      1\u001b[0m \u001b[0mtri_party\u001b[0m\u001b[0;34m=\u001b[0m\u001b[0mk_party\u001b[0m\u001b[0;34m(\u001b[0m\u001b[0;36m3\u001b[0m\u001b[0;34m,\u001b[0m\u001b[0;34m[\u001b[0m\u001b[0;34m(\u001b[0m\u001b[0;36m1\u001b[0m\u001b[0;34m,\u001b[0m\u001b[0;34m[\u001b[0m\u001b[0;36m2\u001b[0m\u001b[0;34m]\u001b[0m\u001b[0;34m)\u001b[0m\u001b[0;34m,\u001b[0m\u001b[0;34m(\u001b[0m\u001b[0;36m1\u001b[0m\u001b[0;34m,\u001b[0m\u001b[0;34m[\u001b[0m\u001b[0;36m2\u001b[0m\u001b[0;34m]\u001b[0m\u001b[0;34m)\u001b[0m\u001b[0;34m,\u001b[0m\u001b[0;34m(\u001b[0m\u001b[0;36m1\u001b[0m\u001b[0;34m,\u001b[0m\u001b[0;34m[\u001b[0m\u001b[0;36m2\u001b[0m\u001b[0;34m]\u001b[0m\u001b[0;34m)\u001b[0m\u001b[0;34m]\u001b[0m\u001b[0;34m,\u001b[0m\u001b[0mstate_vector\u001b[0m\u001b[0;34m)\u001b[0m\u001b[0;34m\u001b[0m\u001b[0;34m\u001b[0m\u001b[0m\n\u001b[1;32m      2\u001b[0m \u001b[0mem\u001b[0m \u001b[0;34m=\u001b[0m \u001b[0mEntanglementMeasures\u001b[0m\u001b[0;34m(\u001b[0m\u001b[0;36m2\u001b[0m\u001b[0;34m,\u001b[0m \u001b[0mtri_party\u001b[0m\u001b[0;34m,\u001b[0m \u001b[0;36m2\u001b[0m\u001b[0;34m)\u001b[0m\u001b[0;34m\u001b[0m\u001b[0;34m\u001b[0m\u001b[0m\n\u001b[0;32m----> 3\u001b[0;31m \u001b[0mem\u001b[0m\u001b[0;34m.\u001b[0m\u001b[0mget_le_lower_bound\u001b[0m\u001b[0;34m(\u001b[0m\u001b[0mtri_party\u001b[0m\u001b[0;34m,\u001b[0m\u001b[0;36m0\u001b[0m\u001b[0;34m,\u001b[0m \u001b[0;36m1\u001b[0m\u001b[0;34m)\u001b[0m\u001b[0;34m\u001b[0m\u001b[0;34m\u001b[0m\u001b[0m\n\u001b[0m",
      "\u001b[0;32m~/Projects/quantum/visualization/entanglement_measures.py\u001b[0m in \u001b[0;36mget_le_lower_bound\u001b[0;34m(self, quantum_state, partyA, partyB)\u001b[0m\n\u001b[1;32m     38\u001b[0m         \u001b[0;32mif\u001b[0m \u001b[0;34m(\u001b[0m\u001b[0;34m(\u001b[0m\u001b[0mpartyA\u001b[0m \u001b[0;34m==\u001b[0m \u001b[0;36m1\u001b[0m \u001b[0;32mand\u001b[0m \u001b[0mpartyB\u001b[0m \u001b[0;34m==\u001b[0m \u001b[0;36m2\u001b[0m\u001b[0;34m)\u001b[0m \u001b[0;32mor\u001b[0m \u001b[0;34m(\u001b[0m\u001b[0mpartyA\u001b[0m \u001b[0;34m==\u001b[0m \u001b[0;36m2\u001b[0m \u001b[0;32mand\u001b[0m \u001b[0mpartyB\u001b[0m \u001b[0;34m==\u001b[0m \u001b[0;36m1\u001b[0m\u001b[0;34m)\u001b[0m\u001b[0;34m)\u001b[0m \u001b[0;34m:\u001b[0m\u001b[0;34m\u001b[0m\u001b[0;34m\u001b[0m\u001b[0m\n\u001b[1;32m     39\u001b[0m             \u001b[0mself\u001b[0m\u001b[0;34m.\u001b[0m\u001b[0mparty_to_measure\u001b[0m \u001b[0;34m=\u001b[0m \u001b[0;36m0\u001b[0m\u001b[0;34m\u001b[0m\u001b[0;34m\u001b[0m\u001b[0m\n\u001b[0;32m---> 40\u001b[0;31m \u001b[0;34m\u001b[0m\u001b[0m\n\u001b[0m\u001b[1;32m     41\u001b[0m         \u001b[0mv\u001b[0m \u001b[0;34m=\u001b[0m \u001b[0mnp\u001b[0m\u001b[0;34m.\u001b[0m\u001b[0mrandom\u001b[0m\u001b[0;34m.\u001b[0m\u001b[0muniform\u001b[0m\u001b[0;34m(\u001b[0m\u001b[0;36m0\u001b[0m\u001b[0;34m,\u001b[0m \u001b[0;36m2\u001b[0m\u001b[0;34m*\u001b[0m\u001b[0mnp\u001b[0m\u001b[0;34m.\u001b[0m\u001b[0mpi\u001b[0m\u001b[0;34m,\u001b[0m \u001b[0;36m4\u001b[0m\u001b[0;34m)\u001b[0m\u001b[0;34m\u001b[0m\u001b[0;34m\u001b[0m\u001b[0m\n\u001b[1;32m     42\u001b[0m         res = optimize.minimize(self.minimise_le, v, method='nelder-mead',\n",
      "\u001b[0;32m~/miniconda3/lib/python3.7/site-packages/scipy/optimize/_minimize.py\u001b[0m in \u001b[0;36mminimize\u001b[0;34m(fun, x0, args, method, jac, hess, hessp, bounds, constraints, tol, callback, options)\u001b[0m\n\u001b[1;32m    610\u001b[0m     \u001b[0;32mif\u001b[0m \u001b[0mmeth\u001b[0m \u001b[0;34m==\u001b[0m \u001b[0;34m'nelder-mead'\u001b[0m\u001b[0;34m:\u001b[0m\u001b[0;34m\u001b[0m\u001b[0;34m\u001b[0m\u001b[0m\n\u001b[1;32m    611\u001b[0m         return _minimize_neldermead(fun, x0, args, callback, bounds=bounds,\n\u001b[0;32m--> 612\u001b[0;31m                                     **options)\n\u001b[0m\u001b[1;32m    613\u001b[0m     \u001b[0;32melif\u001b[0m \u001b[0mmeth\u001b[0m \u001b[0;34m==\u001b[0m \u001b[0;34m'powell'\u001b[0m\u001b[0;34m:\u001b[0m\u001b[0;34m\u001b[0m\u001b[0;34m\u001b[0m\u001b[0m\n\u001b[1;32m    614\u001b[0m         \u001b[0;32mreturn\u001b[0m \u001b[0m_minimize_powell\u001b[0m\u001b[0;34m(\u001b[0m\u001b[0mfun\u001b[0m\u001b[0;34m,\u001b[0m \u001b[0mx0\u001b[0m\u001b[0;34m,\u001b[0m \u001b[0margs\u001b[0m\u001b[0;34m,\u001b[0m \u001b[0mcallback\u001b[0m\u001b[0;34m,\u001b[0m \u001b[0mbounds\u001b[0m\u001b[0;34m,\u001b[0m \u001b[0;34m**\u001b[0m\u001b[0moptions\u001b[0m\u001b[0;34m)\u001b[0m\u001b[0;34m\u001b[0m\u001b[0;34m\u001b[0m\u001b[0m\n",
      "\u001b[0;32m~/miniconda3/lib/python3.7/site-packages/scipy/optimize/optimize.py\u001b[0m in \u001b[0;36m_minimize_neldermead\u001b[0;34m(func, x0, args, callback, maxiter, maxfev, disp, return_all, initial_simplex, xatol, fatol, adaptive, bounds, **unknown_options)\u001b[0m\n\u001b[1;32m    748\u001b[0m \u001b[0;34m\u001b[0m\u001b[0m\n\u001b[1;32m    749\u001b[0m     \u001b[0;32mfor\u001b[0m \u001b[0mk\u001b[0m \u001b[0;32min\u001b[0m \u001b[0mrange\u001b[0m\u001b[0;34m(\u001b[0m\u001b[0mN\u001b[0m \u001b[0;34m+\u001b[0m \u001b[0;36m1\u001b[0m\u001b[0;34m)\u001b[0m\u001b[0;34m:\u001b[0m\u001b[0;34m\u001b[0m\u001b[0;34m\u001b[0m\u001b[0m\n\u001b[0;32m--> 750\u001b[0;31m         \u001b[0mfsim\u001b[0m\u001b[0;34m[\u001b[0m\u001b[0mk\u001b[0m\u001b[0;34m]\u001b[0m \u001b[0;34m=\u001b[0m \u001b[0mfunc\u001b[0m\u001b[0;34m(\u001b[0m\u001b[0msim\u001b[0m\u001b[0;34m[\u001b[0m\u001b[0mk\u001b[0m\u001b[0;34m]\u001b[0m\u001b[0;34m)\u001b[0m\u001b[0;34m\u001b[0m\u001b[0;34m\u001b[0m\u001b[0m\n\u001b[0m\u001b[1;32m    751\u001b[0m \u001b[0;34m\u001b[0m\u001b[0m\n\u001b[1;32m    752\u001b[0m     \u001b[0mind\u001b[0m \u001b[0;34m=\u001b[0m \u001b[0mnp\u001b[0m\u001b[0;34m.\u001b[0m\u001b[0margsort\u001b[0m\u001b[0;34m(\u001b[0m\u001b[0mfsim\u001b[0m\u001b[0;34m)\u001b[0m\u001b[0;34m\u001b[0m\u001b[0;34m\u001b[0m\u001b[0m\n",
      "\u001b[0;32m~/miniconda3/lib/python3.7/site-packages/scipy/optimize/optimize.py\u001b[0m in \u001b[0;36mfunction_wrapper\u001b[0;34m(x, *wrapper_args)\u001b[0m\n\u001b[1;32m    462\u001b[0m     \u001b[0;32mdef\u001b[0m \u001b[0mfunction_wrapper\u001b[0m\u001b[0;34m(\u001b[0m\u001b[0mx\u001b[0m\u001b[0;34m,\u001b[0m \u001b[0;34m*\u001b[0m\u001b[0mwrapper_args\u001b[0m\u001b[0;34m)\u001b[0m\u001b[0;34m:\u001b[0m\u001b[0;34m\u001b[0m\u001b[0;34m\u001b[0m\u001b[0m\n\u001b[1;32m    463\u001b[0m         \u001b[0mncalls\u001b[0m\u001b[0;34m[\u001b[0m\u001b[0;36m0\u001b[0m\u001b[0;34m]\u001b[0m \u001b[0;34m+=\u001b[0m \u001b[0;36m1\u001b[0m\u001b[0;34m\u001b[0m\u001b[0;34m\u001b[0m\u001b[0m\n\u001b[0;32m--> 464\u001b[0;31m         \u001b[0;32mreturn\u001b[0m \u001b[0mfunction\u001b[0m\u001b[0;34m(\u001b[0m\u001b[0mnp\u001b[0m\u001b[0;34m.\u001b[0m\u001b[0mcopy\u001b[0m\u001b[0;34m(\u001b[0m\u001b[0mx\u001b[0m\u001b[0;34m)\u001b[0m\u001b[0;34m,\u001b[0m \u001b[0;34m*\u001b[0m\u001b[0;34m(\u001b[0m\u001b[0mwrapper_args\u001b[0m \u001b[0;34m+\u001b[0m \u001b[0margs\u001b[0m\u001b[0;34m)\u001b[0m\u001b[0;34m)\u001b[0m\u001b[0;34m\u001b[0m\u001b[0;34m\u001b[0m\u001b[0m\n\u001b[0m\u001b[1;32m    465\u001b[0m \u001b[0;34m\u001b[0m\u001b[0m\n\u001b[1;32m    466\u001b[0m     \u001b[0;32mreturn\u001b[0m \u001b[0mncalls\u001b[0m\u001b[0;34m,\u001b[0m \u001b[0mfunction_wrapper\u001b[0m\u001b[0;34m\u001b[0m\u001b[0;34m\u001b[0m\u001b[0m\n",
      "\u001b[0;32m~/Projects/quantum/visualization/entanglement_measures.py\u001b[0m in \u001b[0;36mminimise_le\u001b[0;34m(self, v)\u001b[0m\n\u001b[1;32m    125\u001b[0m \u001b[0;34m\u001b[0m\u001b[0m\n\u001b[1;32m    126\u001b[0m         \u001b[0;32melif\u001b[0m \u001b[0;34m(\u001b[0m\u001b[0mself\u001b[0m\u001b[0;34m.\u001b[0m\u001b[0mparty_to_measure\u001b[0m \u001b[0;34m==\u001b[0m \u001b[0;36m1\u001b[0m\u001b[0;34m)\u001b[0m\u001b[0;34m:\u001b[0m\u001b[0;34m\u001b[0m\u001b[0;34m\u001b[0m\u001b[0m\n\u001b[0;32m--> 127\u001b[0;31m             \u001b[0mm\u001b[0m \u001b[0;34m=\u001b[0m \u001b[0mnp\u001b[0m\u001b[0;34m.\u001b[0m\u001b[0mkron\u001b[0m\u001b[0;34m(\u001b[0m\u001b[0mnp\u001b[0m\u001b[0;34m.\u001b[0m\u001b[0mkron\u001b[0m\u001b[0;34m(\u001b[0m\u001b[0mnp\u001b[0m\u001b[0;34m.\u001b[0m\u001b[0meye\u001b[0m\u001b[0;34m(\u001b[0m\u001b[0mself\u001b[0m\u001b[0;34m.\u001b[0m\u001b[0mN\u001b[0m\u001b[0;34m)\u001b[0m\u001b[0;34m,\u001b[0m \u001b[0mU\u001b[0m\u001b[0;34m)\u001b[0m\u001b[0;34m,\u001b[0m \u001b[0mnp\u001b[0m\u001b[0;34m.\u001b[0m\u001b[0meye\u001b[0m\u001b[0;34m(\u001b[0m\u001b[0mself\u001b[0m\u001b[0;34m.\u001b[0m\u001b[0mN\u001b[0m\u001b[0;34m)\u001b[0m\u001b[0;34m)\u001b[0m\u001b[0;34m\u001b[0m\u001b[0;34m\u001b[0m\u001b[0m\n\u001b[0m\u001b[1;32m    128\u001b[0m \u001b[0;34m\u001b[0m\u001b[0m\n\u001b[1;32m    129\u001b[0m         \u001b[0;32melif\u001b[0m \u001b[0;34m(\u001b[0m\u001b[0mself\u001b[0m\u001b[0;34m.\u001b[0m\u001b[0mparty_to_measure\u001b[0m \u001b[0;34m==\u001b[0m \u001b[0;36m0\u001b[0m\u001b[0;34m)\u001b[0m\u001b[0;34m:\u001b[0m\u001b[0;34m\u001b[0m\u001b[0;34m\u001b[0m\u001b[0m\n",
      "\u001b[0;31mAttributeError\u001b[0m: 'k_party' object has no attribute 'flatten'"
     ]
    }
   ],
   "source": [
    "tri_party=k_party(3,[(1,[2]),(1,[2]),(1,[2])],state_vector)\n",
    "em = EntanglementMeasures(2, tri_party, 2)\n",
    "em.get_le_lower_bound(tri_party,0, 1)"
   ]
  },
  {
   "cell_type": "code",
   "execution_count": 27,
   "id": "f686c14f",
   "metadata": {},
   "outputs": [
    {
     "ename": "TypeError",
     "evalue": "__init__() takes 4 positional arguments but 5 were given",
     "output_type": "error",
     "traceback": [
      "\u001b[0;31m---------------------------------------------------------------------------\u001b[0m",
      "\u001b[0;31mTypeError\u001b[0m                                 Traceback (most recent call last)",
      "\u001b[0;32m<ipython-input-27-587c02457fe9>\u001b[0m in \u001b[0;36m<module>\u001b[0;34m\u001b[0m\n\u001b[1;32m      1\u001b[0m \u001b[0;32mfrom\u001b[0m \u001b[0mk_party\u001b[0m \u001b[0;32mimport\u001b[0m \u001b[0mk_party\u001b[0m\u001b[0;34m\u001b[0m\u001b[0;34m\u001b[0m\u001b[0m\n\u001b[1;32m      2\u001b[0m \u001b[0;34m\u001b[0m\u001b[0m\n\u001b[0;32m----> 3\u001b[0;31m \u001b[0mk\u001b[0m\u001b[0;34m=\u001b[0m\u001b[0mk_party\u001b[0m\u001b[0;34m(\u001b[0m\u001b[0;36m3\u001b[0m\u001b[0;34m,\u001b[0m\u001b[0;36m2\u001b[0m\u001b[0;34m,\u001b[0m\u001b[0;34m[\u001b[0m\u001b[0;34m(\u001b[0m\u001b[0;36m1\u001b[0m\u001b[0;34m,\u001b[0m\u001b[0;34m[\u001b[0m\u001b[0;36m2\u001b[0m\u001b[0;34m]\u001b[0m\u001b[0;34m)\u001b[0m\u001b[0;34m,\u001b[0m\u001b[0;34m(\u001b[0m\u001b[0;36m1\u001b[0m\u001b[0;34m,\u001b[0m\u001b[0;34m[\u001b[0m\u001b[0;36m2\u001b[0m\u001b[0;34m]\u001b[0m\u001b[0;34m)\u001b[0m\u001b[0;34m,\u001b[0m\u001b[0;34m(\u001b[0m\u001b[0;36m1\u001b[0m\u001b[0;34m,\u001b[0m\u001b[0;34m[\u001b[0m\u001b[0;36m2\u001b[0m\u001b[0;34m]\u001b[0m\u001b[0;34m)\u001b[0m\u001b[0;34m]\u001b[0m\u001b[0;34m,\u001b[0m\u001b[0mstate_vector\u001b[0m\u001b[0;34m)\u001b[0m\u001b[0;34m\u001b[0m\u001b[0;34m\u001b[0m\u001b[0m\n\u001b[0m",
      "\u001b[0;31mTypeError\u001b[0m: __init__() takes 4 positional arguments but 5 were given"
     ]
    }
   ],
   "source": [
    "from k_party import k_party\n",
    "\n",
    "k=k_party(3,2,[(1,[2]),(1,[2]),(1,[2])],state_vector)"
   ]
  },
  {
   "cell_type": "code",
   "execution_count": null,
   "id": "b8b49874",
   "metadata": {},
   "outputs": [],
   "source": [
    "em.get_le_upper_bound(np.reshape(state_vector,(2,2,2)), 0, 1)"
   ]
  },
  {
   "cell_type": "code",
   "execution_count": null,
   "id": "e341ad9e",
   "metadata": {},
   "outputs": [],
   "source": []
  },
  {
   "cell_type": "code",
   "execution_count": 63,
   "id": "66e21a9a",
   "metadata": {},
   "outputs": [
    {
     "name": "stdout",
     "output_type": "stream",
     "text": [
      "0\n",
      "1\n",
      "2\n"
     ]
    }
   ],
   "source": [
    "for i in range(len(dims)): \n",
    "    print(i)"
   ]
  },
  {
   "cell_type": "code",
   "execution_count": 60,
   "id": "50dc3d1a",
   "metadata": {},
   "outputs": [
    {
     "data": {
      "text/plain": [
       "3"
      ]
     },
     "execution_count": 60,
     "metadata": {},
     "output_type": "execute_result"
    }
   ],
   "source": [
    "range(len(dims)"
   ]
  },
  {
   "cell_type": "code",
   "execution_count": 12,
   "id": "5d7ca1e1",
   "metadata": {},
   "outputs": [
    {
     "name": "stdout",
     "output_type": "stream",
     "text": [
      "BasicAer backends:  [<QasmSimulatorPy('qasm_simulator')>, <StatevectorSimulatorPy('statevector_simulator')>, <UnitarySimulatorPy('unitary_simulator')>]\n",
      "{'000': 507, '111': 517}\n"
     ]
    }
   ],
   "source": [
    "from qiskit import QuantumCircuit\n",
    "from qiskit import execute, IBMQ, BasicAer\n",
    "\n",
    "def w_state_circuit_from_qiskit():\n",
    "    a=np.sqrt(1/3)\n",
    "    v=[0,a,a,0,a,0,0,0]\n",
    "    #v=[1,0,0,0,0,0,0,0]\n",
    "    circuit = QuantumCircuit(3,3)\n",
    "    circuit.initialize(v, circuit.qubits)\n",
    "    circuit.draw(\"text\")\n",
    "    return circuit\n",
    "    \n",
    "#GHZ state\n",
    "def ghz_state_circuit_from_qiskit():\n",
    "    circuit = qiskit.QuantumCircuit(3,3)\n",
    "    circuit.h(0)\n",
    "    circuit.cx(0, 1)\n",
    "    circuit.cx(0, 2)\n",
    "    circuit.draw(\"text\")\n",
    "    return circuit\n",
    "\n",
    "#GHZ state 2\n",
    "def ghz_state_circuit_from_qiskit2():\n",
    "    psi = np.zeros((2, 2, 2))\n",
    "    np.fill_diagonal(psi, np.sqrt(1/2))\n",
    "    circuit = qiskit.QuantumCircuit(3,3)\n",
    "    circuit.initialize(psi.flatten(), circuit.qubits)\n",
    "    return  circuit\n",
    "\n",
    "qc=ghz_state_circuit_from_qiskit2()#w_state_circuit_from_qiskit()\n",
    "qc.measure([0, 1, 2], [0, 1, 2])\n",
    "\n",
    "# See a list of available local simulators\n",
    "print(\"BasicAer backends: \", BasicAer.backends())\n",
    "backend_sim = BasicAer.get_backend('qasm_simulator')\n",
    "\n",
    "# Compile and run the Quantum circuit on a simulator backend\n",
    "job_sim = execute(qc, backend_sim)\n",
    "result_sim = job_sim.result()\n",
    "\n",
    "# Show the results\n",
    "print(result_sim.get_counts(qc))\n",
    "\n",
    "\n"
   ]
  },
  {
   "cell_type": "code",
   "execution_count": 13,
   "id": "e89fcb4c",
   "metadata": {},
   "outputs": [
    {
     "data": {
      "text/plain": [
       "<qiskit.circuit.quantumcircuit.QuantumCircuit at 0x7f9d8d4258d0>"
      ]
     },
     "execution_count": 13,
     "metadata": {},
     "output_type": "execute_result"
    }
   ],
   "source": [
    "#GHZ state 2\n",
    "def ghz_state_circuit_from_qiskit2():\n",
    "    psi = np.zeros((2, 2, 2))\n",
    "    np.fill_diagonal(psi, np.sqrt(1/2))\n",
    "    circuit = qiskit.QuantumCircuit(3,3)\n",
    "    circuit.initialize(psi.flatten(), circuit.qubits)\n",
    "    return  circuit\n",
    "ghz_state_circuit_from_qiskit2()"
   ]
  },
  {
   "cell_type": "code",
   "execution_count": null,
   "id": "b7a861d1",
   "metadata": {},
   "outputs": [],
   "source": []
  },
  {
   "cell_type": "code",
   "execution_count": 6,
   "id": "df9b6d27",
   "metadata": {},
   "outputs": [
    {
     "data": {
      "text/plain": [
       "'[{\"re\": 0.3535533905932737, \"im\": 0.0}, {\"re\": 0.3535533905932737, \"im\": 0.0}, {\"re\": 0.3535533905932737, \"im\": 0.0}, {\"re\": -0.3535533905932737, \"im\": 0.0}, {\"re\": 0.3535533905932737, \"im\": 0.0}, {\"re\": 0.3535533905932737, \"im\": 0.0}, {\"re\": -0.3535533905932737, \"im\": 0.0}, {\"re\": 0.3535533905932737, \"im\": 0.0}]'"
      ]
     },
     "execution_count": 6,
     "metadata": {},
     "output_type": "execute_result"
    }
   ],
   "source": [
    "def graph_state_from_qiskit(graph):\n",
    "    #print graph circuit\n",
    "    adj_matrix=nx.to_numpy_matrix(graph)#adjacency_matrix(graph)\n",
    "    circuit= qiskit.circuit.library.GraphState(adj_matrix)\n",
    "    circuit.draw(\"text\")\n",
    "    \n",
    "    results=qiskit.quantum_info.Statevector(circuit)\n",
    "    \n",
    "    return results\n",
    "\n",
    "state_vector=graph_state_from_qiskit(graph)\n",
    "state_obj=[{\"re\":x.real,\"im\":x.imag} for x in state_vector]\n",
    "json.dumps(state_obj)"
   ]
  },
  {
   "cell_type": "code",
   "execution_count": null,
   "id": "e6709fea",
   "metadata": {},
   "outputs": [],
   "source": []
  },
  {
   "cell_type": "code",
   "execution_count": 17,
   "id": "6da36999",
   "metadata": {},
   "outputs": [
    {
     "name": "stdout",
     "output_type": "stream",
     "text": [
      " * Serving Flask app '__main__' (lazy loading)\n",
      " * Environment: production\n",
      "\u001b[31m   WARNING: This is a development server. Do not use it in a production deployment.\u001b[0m\n",
      "\u001b[2m   Use a production WSGI server instead.\u001b[0m\n",
      " * Debug mode: off\n"
     ]
    },
    {
     "name": "stderr",
     "output_type": "stream",
     "text": [
      " * Running on all addresses.\n",
      "   WARNING: This is a development server. Do not use it in a production deployment.\n",
      " * Running on http://192.168.1.165:3000/ (Press CTRL+C to quit)\n",
      "127.0.0.1 - - [11/Nov/2022 19:52:59] \"GET / HTTP/1.1\" 404 -\n",
      "127.0.0.1 - - [11/Nov/2022 19:53:11] \"GET / HTTP/1.1\" 404 -\n",
      "127.0.0.1 - - [11/Nov/2022 19:53:24] \"GET /state.json HTTP/1.1\" 200 -\n",
      "127.0.0.1 - - [11/Nov/2022 19:54:23] \"GET / HTTP/1.1\" 200 -\n",
      "127.0.0.1 - - [11/Nov/2022 19:54:23] \"GET /d3.js HTTP/1.1\" 200 -\n"
     ]
    }
   ],
   "source": [
    "from flask import Flask\n",
    "\n",
    "app = Flask(__name__,static_url_path='')\n",
    "\n",
    "\n",
    "@app.route('/')\n",
    "def index(): \n",
    "    return app.send_static_file('index.html')\n",
    "\n",
    "@app.route(\"/state.json\")\n",
    "def send_state():\n",
    "    state_obj=[{\"re\":x.real,\"im\":x.imag} for x in state_vector]\n",
    "    dims=state_vector.dims()\n",
    "    o={\"state\":state_obj,\"parties\":len(dims),\"dims\":dims}\n",
    "    result=json.dumps(o)\n",
    "    return(result)\n",
    "\n",
    "app.run(host='0.0.0.0', port=3000)\n"
   ]
  },
  {
   "cell_type": "code",
   "execution_count": 9,
   "id": "f5fb99cd",
   "metadata": {},
   "outputs": [
    {
     "ename": "OSError",
     "evalue": "[Errno 98] Address already in use",
     "output_type": "error",
     "traceback": [
      "\u001b[0;31m---------------------------------------------------------------------------\u001b[0m",
      "\u001b[0;31mOSError\u001b[0m                                   Traceback (most recent call last)",
      "\u001b[0;32m<ipython-input-9-96b3f05e8cdf>\u001b[0m in \u001b[0;36m<module>\u001b[0;34m\u001b[0m\n\u001b[1;32m     60\u001b[0m     \u001b[0mhttpd\u001b[0m\u001b[0;34m.\u001b[0m\u001b[0mserver_close\u001b[0m\u001b[0;34m(\u001b[0m\u001b[0;34m)\u001b[0m\u001b[0;34m\u001b[0m\u001b[0;34m\u001b[0m\u001b[0m\n\u001b[1;32m     61\u001b[0m \u001b[0;34m\u001b[0m\u001b[0m\n\u001b[0;32m---> 62\u001b[0;31m \u001b[0mrun\u001b[0m\u001b[0;34m(\u001b[0m\u001b[0;34m)\u001b[0m\u001b[0;34m\u001b[0m\u001b[0;34m\u001b[0m\u001b[0m\n\u001b[0m",
      "\u001b[0;32m<ipython-input-9-96b3f05e8cdf>\u001b[0m in \u001b[0;36mrun\u001b[0;34m(server_class, handler_class)\u001b[0m\n\u001b[1;32m     52\u001b[0m \u001b[0;32mdef\u001b[0m \u001b[0mrun\u001b[0m\u001b[0;34m(\u001b[0m\u001b[0mserver_class\u001b[0m\u001b[0;34m=\u001b[0m\u001b[0mHTTPServer\u001b[0m\u001b[0;34m,\u001b[0m \u001b[0mhandler_class\u001b[0m\u001b[0;34m=\u001b[0m\u001b[0mMyHTTPRequestHandler\u001b[0m\u001b[0;34m)\u001b[0m\u001b[0;34m:\u001b[0m\u001b[0;34m\u001b[0m\u001b[0;34m\u001b[0m\u001b[0m\n\u001b[1;32m     53\u001b[0m     \u001b[0mserver_address\u001b[0m \u001b[0;34m=\u001b[0m \u001b[0;34m(\u001b[0m\u001b[0;34m''\u001b[0m\u001b[0;34m,\u001b[0m \u001b[0;36m8001\u001b[0m\u001b[0;34m)\u001b[0m\u001b[0;34m\u001b[0m\u001b[0;34m\u001b[0m\u001b[0m\n\u001b[0;32m---> 54\u001b[0;31m     \u001b[0mhttpd\u001b[0m \u001b[0;34m=\u001b[0m \u001b[0mserver_class\u001b[0m\u001b[0;34m(\u001b[0m\u001b[0mserver_address\u001b[0m\u001b[0;34m,\u001b[0m \u001b[0mhandler_class\u001b[0m\u001b[0;34m)\u001b[0m\u001b[0;34m\u001b[0m\u001b[0;34m\u001b[0m\u001b[0m\n\u001b[0m\u001b[1;32m     55\u001b[0m     \u001b[0;32mtry\u001b[0m\u001b[0;34m:\u001b[0m\u001b[0;34m\u001b[0m\u001b[0;34m\u001b[0m\u001b[0m\n\u001b[1;32m     56\u001b[0m         \u001b[0mhttpd\u001b[0m\u001b[0;34m.\u001b[0m\u001b[0mserve_forever\u001b[0m\u001b[0;34m(\u001b[0m\u001b[0;34m)\u001b[0m\u001b[0;34m\u001b[0m\u001b[0;34m\u001b[0m\u001b[0m\n",
      "\u001b[0;32m~/miniconda3/lib/python3.7/socketserver.py\u001b[0m in \u001b[0;36m__init__\u001b[0;34m(self, server_address, RequestHandlerClass, bind_and_activate)\u001b[0m\n\u001b[1;32m    450\u001b[0m         \u001b[0;32mif\u001b[0m \u001b[0mbind_and_activate\u001b[0m\u001b[0;34m:\u001b[0m\u001b[0;34m\u001b[0m\u001b[0;34m\u001b[0m\u001b[0m\n\u001b[1;32m    451\u001b[0m             \u001b[0;32mtry\u001b[0m\u001b[0;34m:\u001b[0m\u001b[0;34m\u001b[0m\u001b[0;34m\u001b[0m\u001b[0m\n\u001b[0;32m--> 452\u001b[0;31m                 \u001b[0mself\u001b[0m\u001b[0;34m.\u001b[0m\u001b[0mserver_bind\u001b[0m\u001b[0;34m(\u001b[0m\u001b[0;34m)\u001b[0m\u001b[0;34m\u001b[0m\u001b[0;34m\u001b[0m\u001b[0m\n\u001b[0m\u001b[1;32m    453\u001b[0m                 \u001b[0mself\u001b[0m\u001b[0;34m.\u001b[0m\u001b[0mserver_activate\u001b[0m\u001b[0;34m(\u001b[0m\u001b[0;34m)\u001b[0m\u001b[0;34m\u001b[0m\u001b[0;34m\u001b[0m\u001b[0m\n\u001b[1;32m    454\u001b[0m             \u001b[0;32mexcept\u001b[0m\u001b[0;34m:\u001b[0m\u001b[0;34m\u001b[0m\u001b[0;34m\u001b[0m\u001b[0m\n",
      "\u001b[0;32m~/miniconda3/lib/python3.7/http/server.py\u001b[0m in \u001b[0;36mserver_bind\u001b[0;34m(self)\u001b[0m\n\u001b[1;32m    135\u001b[0m     \u001b[0;32mdef\u001b[0m \u001b[0mserver_bind\u001b[0m\u001b[0;34m(\u001b[0m\u001b[0mself\u001b[0m\u001b[0;34m)\u001b[0m\u001b[0;34m:\u001b[0m\u001b[0;34m\u001b[0m\u001b[0;34m\u001b[0m\u001b[0m\n\u001b[1;32m    136\u001b[0m         \u001b[0;34m\"\"\"Override server_bind to store the server name.\"\"\"\u001b[0m\u001b[0;34m\u001b[0m\u001b[0;34m\u001b[0m\u001b[0m\n\u001b[0;32m--> 137\u001b[0;31m         \u001b[0msocketserver\u001b[0m\u001b[0;34m.\u001b[0m\u001b[0mTCPServer\u001b[0m\u001b[0;34m.\u001b[0m\u001b[0mserver_bind\u001b[0m\u001b[0;34m(\u001b[0m\u001b[0mself\u001b[0m\u001b[0;34m)\u001b[0m\u001b[0;34m\u001b[0m\u001b[0;34m\u001b[0m\u001b[0m\n\u001b[0m\u001b[1;32m    138\u001b[0m         \u001b[0mhost\u001b[0m\u001b[0;34m,\u001b[0m \u001b[0mport\u001b[0m \u001b[0;34m=\u001b[0m \u001b[0mself\u001b[0m\u001b[0;34m.\u001b[0m\u001b[0mserver_address\u001b[0m\u001b[0;34m[\u001b[0m\u001b[0;34m:\u001b[0m\u001b[0;36m2\u001b[0m\u001b[0;34m]\u001b[0m\u001b[0;34m\u001b[0m\u001b[0;34m\u001b[0m\u001b[0m\n\u001b[1;32m    139\u001b[0m         \u001b[0mself\u001b[0m\u001b[0;34m.\u001b[0m\u001b[0mserver_name\u001b[0m \u001b[0;34m=\u001b[0m \u001b[0msocket\u001b[0m\u001b[0;34m.\u001b[0m\u001b[0mgetfqdn\u001b[0m\u001b[0;34m(\u001b[0m\u001b[0mhost\u001b[0m\u001b[0;34m)\u001b[0m\u001b[0;34m\u001b[0m\u001b[0;34m\u001b[0m\u001b[0m\n",
      "\u001b[0;32m~/miniconda3/lib/python3.7/socketserver.py\u001b[0m in \u001b[0;36mserver_bind\u001b[0;34m(self)\u001b[0m\n\u001b[1;32m    464\u001b[0m         \u001b[0;32mif\u001b[0m \u001b[0mself\u001b[0m\u001b[0;34m.\u001b[0m\u001b[0mallow_reuse_address\u001b[0m\u001b[0;34m:\u001b[0m\u001b[0;34m\u001b[0m\u001b[0;34m\u001b[0m\u001b[0m\n\u001b[1;32m    465\u001b[0m             \u001b[0mself\u001b[0m\u001b[0;34m.\u001b[0m\u001b[0msocket\u001b[0m\u001b[0;34m.\u001b[0m\u001b[0msetsockopt\u001b[0m\u001b[0;34m(\u001b[0m\u001b[0msocket\u001b[0m\u001b[0;34m.\u001b[0m\u001b[0mSOL_SOCKET\u001b[0m\u001b[0;34m,\u001b[0m \u001b[0msocket\u001b[0m\u001b[0;34m.\u001b[0m\u001b[0mSO_REUSEADDR\u001b[0m\u001b[0;34m,\u001b[0m \u001b[0;36m1\u001b[0m\u001b[0;34m)\u001b[0m\u001b[0;34m\u001b[0m\u001b[0;34m\u001b[0m\u001b[0m\n\u001b[0;32m--> 466\u001b[0;31m         \u001b[0mself\u001b[0m\u001b[0;34m.\u001b[0m\u001b[0msocket\u001b[0m\u001b[0;34m.\u001b[0m\u001b[0mbind\u001b[0m\u001b[0;34m(\u001b[0m\u001b[0mself\u001b[0m\u001b[0;34m.\u001b[0m\u001b[0mserver_address\u001b[0m\u001b[0;34m)\u001b[0m\u001b[0;34m\u001b[0m\u001b[0;34m\u001b[0m\u001b[0m\n\u001b[0m\u001b[1;32m    467\u001b[0m         \u001b[0mself\u001b[0m\u001b[0;34m.\u001b[0m\u001b[0mserver_address\u001b[0m \u001b[0;34m=\u001b[0m \u001b[0mself\u001b[0m\u001b[0;34m.\u001b[0m\u001b[0msocket\u001b[0m\u001b[0;34m.\u001b[0m\u001b[0mgetsockname\u001b[0m\u001b[0;34m(\u001b[0m\u001b[0;34m)\u001b[0m\u001b[0;34m\u001b[0m\u001b[0;34m\u001b[0m\u001b[0m\n\u001b[1;32m    468\u001b[0m \u001b[0;34m\u001b[0m\u001b[0m\n",
      "\u001b[0;31mOSError\u001b[0m: [Errno 98] Address already in use"
     ]
    }
   ],
   "source": [
    "\n",
    "\n",
    "class MyHTTPRequestHandler(BaseHTTPRequestHandler):\n",
    "    \n",
    "    def do_GET(self):\n",
    "        filepath = self.path\n",
    "        #queries = urlparse.parse_qs(urlparse.urlparse(self.path).query)\n",
    "        #.get('imsi', None)  None or the string value of imsi\n",
    "        if filepath==\"/\":\n",
    "            filepath=\"/index.html\"\n",
    "        if filepath==\"/test.json\":\n",
    "            try:\n",
    "                self.send_response(200)\n",
    "                self.send_header('Content-type', 'application/json')\n",
    "                self.end_headers();\n",
    "                state_obj=[{\"re\":x.real,\"im\":x.imag} for x in state_vector]\n",
    "                dims=state_vector.dims()\n",
    "                o={\"state\":state_obj,\"parties\":len(dims),\"dims\":dims}\n",
    "                result=json.dumps(o)\n",
    "                self.wfile.write(bytes(result, 'UTF-8'))\n",
    "                return\n",
    "            except IOError:\n",
    "                self.send_error(404,'File Not Found: %s ' % filepath)\n",
    "        try:\n",
    "            print(\"opening\"+os.path.join('.',  filepath))\n",
    "            f = open(os.path.join('./',  filepath))#'www',\n",
    "        except IOError:\n",
    "            self.send_error(404,'File Not Found: %s ' % filepath)\n",
    "        else:\n",
    "            self.send_response(200)\n",
    "            mimetype, _ = mimetypes.guess_type(filepath)\n",
    "            self.send_header('Content-type', mimetype)\n",
    "            self.end_headers()\n",
    "            for s in f:\n",
    "                self.wfile.write(s)\n",
    "\n",
    "    def do_POST(self):\n",
    "        \n",
    "        length = int(self.headers[\"Content-Length\"])\n",
    "        print(\"Data: \" + str(self.rfile.read(length), \"utf-8\"))\n",
    "\n",
    "        response = bytes(\"This is the response.\", \"utf-8\") #create response\n",
    "\n",
    "        self.send_response(200) #create header\n",
    "        self.send_header(\"Content-Length\", str(len(response)))\n",
    "        self.end_headers()\n",
    "\n",
    "        self.wfile.write(response) #send response\n",
    "\n",
    "\n",
    "\n",
    "\n",
    "\n",
    "def run(server_class=HTTPServer, handler_class=MyHTTPRequestHandler):\n",
    "    server_address = ('', 8001)\n",
    "    httpd = server_class(server_address, handler_class)\n",
    "    try:\n",
    "        httpd.serve_forever()\n",
    "    except Error:\n",
    "        print(Error)\n",
    "        pass\n",
    "    httpd.server_close()\n",
    "\n",
    "run()"
   ]
  },
  {
   "cell_type": "code",
   "execution_count": null,
   "id": "691b67ea",
   "metadata": {},
   "outputs": [],
   "source": []
  }
 ],
 "metadata": {
  "kernelspec": {
   "display_name": "Python 3 (ipykernel)",
   "language": "python",
   "name": "python3"
  },
  "language_info": {
   "codemirror_mode": {
    "name": "ipython",
    "version": 3
   },
   "file_extension": ".py",
   "mimetype": "text/x-python",
   "name": "python",
   "nbconvert_exporter": "python",
   "pygments_lexer": "ipython3",
   "version": "3.10.8"
  }
 },
 "nbformat": 4,
 "nbformat_minor": 5
}
